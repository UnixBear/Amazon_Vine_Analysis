{
  "nbformat": 4,
  "nbformat_minor": 0,
  "metadata": {
    "colab": {
      "name": "installingSpark.ipynb",
      "provenance": []
    },
    "kernelspec": {
      "name": "python3",
      "display_name": "Python 3"
    },
    "language_info": {
      "name": "python"
    }
  },
  "cells": [
    {
      "cell_type": "code",
      "execution_count": null,
      "metadata": {
        "colab": {
          "base_uri": "https://localhost:8080/"
        },
        "id": "HNE6oUN0XeuT",
        "outputId": "41c1984b-8e82-4e17-fc32-e274fa9e3786"
      },
      "outputs": [
        {
          "output_type": "stream",
          "name": "stdout",
          "text": [
            "Get:1 http://security.ubuntu.com/ubuntu bionic-security InRelease [88.7 kB]\n",
            "Get:2 https://cloud.r-project.org/bin/linux/ubuntu bionic-cran40/ InRelease [3,626 B]\n",
            "Hit:3 http://archive.ubuntu.com/ubuntu bionic InRelease\n",
            "Get:4 http://archive.ubuntu.com/ubuntu bionic-updates InRelease [88.7 kB]\n",
            "Ign:5 https://developer.download.nvidia.com/compute/machine-learning/repos/ubuntu1804/x86_64  InRelease\n",
            "Get:6 https://developer.download.nvidia.com/compute/cuda/repos/ubuntu1804/x86_64  InRelease [1,581 B]\n",
            "Hit:7 https://developer.download.nvidia.com/compute/machine-learning/repos/ubuntu1804/x86_64  Release\n",
            "Get:8 http://archive.ubuntu.com/ubuntu bionic-backports InRelease [74.6 kB]\n",
            "Get:9 http://ppa.launchpad.net/c2d4u.team/c2d4u4.0+/ubuntu bionic InRelease [15.9 kB]\n",
            "Hit:10 http://ppa.launchpad.net/cran/libgit2/ubuntu bionic InRelease\n",
            "Get:11 https://cloud.r-project.org/bin/linux/ubuntu bionic-cran40/ Packages [90.7 kB]\n",
            "Get:12 http://ppa.launchpad.net/deadsnakes/ppa/ubuntu bionic InRelease [15.9 kB]\n",
            "Get:13 http://ppa.launchpad.net/graphics-drivers/ppa/ubuntu bionic InRelease [21.3 kB]\n",
            "Get:14 http://security.ubuntu.com/ubuntu bionic-security/main amd64 Packages [2,937 kB]\n",
            "Get:15 http://security.ubuntu.com/ubuntu bionic-security/restricted amd64 Packages [1,100 kB]\n",
            "Get:16 https://developer.download.nvidia.com/compute/cuda/repos/ubuntu1804/x86_64  Packages [903 kB]\n",
            "Get:17 http://security.ubuntu.com/ubuntu bionic-security/universe amd64 Packages [1,533 kB]\n",
            "Get:19 http://archive.ubuntu.com/ubuntu bionic-updates/universe amd64 Packages [2,310 kB]\n",
            "Get:20 http://archive.ubuntu.com/ubuntu bionic-updates/main amd64 Packages [3,369 kB]\n",
            "Get:21 http://archive.ubuntu.com/ubuntu bionic-updates/restricted amd64 Packages [1,141 kB]\n",
            "Get:22 http://ppa.launchpad.net/c2d4u.team/c2d4u4.0+/ubuntu bionic/main Sources [2,088 kB]\n",
            "Get:23 http://ppa.launchpad.net/c2d4u.team/c2d4u4.0+/ubuntu bionic/main amd64 Packages [1,069 kB]\n",
            "Get:24 http://ppa.launchpad.net/deadsnakes/ppa/ubuntu bionic/main amd64 Packages [45.3 kB]\n",
            "Get:25 http://ppa.launchpad.net/graphics-drivers/ppa/ubuntu bionic/main amd64 Packages [47.7 kB]\n",
            "Fetched 16.9 MB in 10s (1,719 kB/s)\n",
            "Reading package lists... Done\n"
          ]
        }
      ],
      "source": [
        "import os\n",
        "# Find the latest version of spark 3.0  from http://www.apache.org/dist/spark/ and enter as the spark version\n",
        "# For example:\n",
        "# spark_version = 'spark-3.0.3'\n",
        "spark_version = 'spark-3.3.0'\n",
        "os.environ['SPARK_VERSION']=spark_version\n",
        "\n",
        "# Install Spark and Java\n",
        "!apt-get update\n",
        "!apt-get install openjdk-11-jdk-headless -qq > /dev/null\n",
        "!wget -q http://www.apache.org/dist/spark/$SPARK_VERSION/$SPARK_VERSION-bin-hadoop3.tgz\n",
        "!tar xf $SPARK_VERSION-bin-hadoop3.tgz\n",
        "!pip install -q findspark\n",
        "\n",
        "# Set Environment Variables\n",
        "import os\n",
        "os.environ[\"JAVA_HOME\"] = \"/usr/lib/jvm/java-11-openjdk-amd64\"\n",
        "os.environ[\"SPARK_HOME\"] = f\"/content/{spark_version}-bin-hadoop3\"\n",
        "\n",
        "# Start a SparkSession\n",
        "import findspark\n",
        "findspark.init()"
      ]
    },
    {
      "cell_type": "code",
      "source": [
        "#Start Spark session\n",
        "from pyspark.sql import SparkSession\n",
        "spark=SparkSession.builder.appName(\"DataFrameBasics\").getOrCreate()\n"
      ],
      "metadata": {
        "id": "0NOIm3qUXja-"
      },
      "execution_count": null,
      "outputs": []
    },
    {
      "cell_type": "code",
      "source": [
        "#Read data from S3 Buckets\n",
        "from pyspark import SparkFiles\n",
        "url = \"https://2u-data-curriculum-team.s3.amazonaws.com/dataviz-online/module_16/food.csv\"\n",
        "spark.sparkContext.addFile(url)\n",
        "df = spark.read.csv(SparkFiles.get(\"food.csv\"), sep=\",\", header=True)"
      ],
      "metadata": {
        "id": "1W6ckZXJf9sw"
      },
      "execution_count": null,
      "outputs": []
    },
    {
      "cell_type": "code",
      "source": [
        "#df.show()\n",
        "#df.describe()\n",
        "df.printSchema()"
      ],
      "metadata": {
        "colab": {
          "base_uri": "https://localhost:8080/"
        },
        "id": "7EXUwcgygG1T",
        "outputId": "82d44cce-2536-444e-fee8-70917327e181"
      },
      "execution_count": null,
      "outputs": [
        {
          "output_type": "stream",
          "name": "stdout",
          "text": [
            "root\n",
            " |-- food: string (nullable = true)\n",
            " |-- price: string (nullable = true)\n",
            "\n"
          ]
        }
      ]
    },
    {
      "cell_type": "code",
      "source": [
        "#Import struct fields that we can use\n",
        "from pyspark.sql.types import StructField, StringType, IntegerType, StructType"
      ],
      "metadata": {
        "id": "W1pD4HGihGS9"
      },
      "execution_count": null,
      "outputs": []
    },
    {
      "cell_type": "markdown",
      "source": [
        "We'll create the schema by creating a `StructType`, which is one of Spark's complex types, like an array or map. The `StructField` will define the column name, the data type held, and a Boolean to define whether null values will be included or not:"
      ],
      "metadata": {
        "id": "GIDCWajqhhjW"
      }
    },
    {
      "cell_type": "code",
      "source": [
        "#Create a list of struct fields\n",
        "schema = [StructField(\"food\", StringType(), True), StructField(\"price\", IntegerType(), True),]\n",
        "schema"
      ],
      "metadata": {
        "colab": {
          "base_uri": "https://localhost:8080/"
        },
        "id": "IDO7vp1VhNlL",
        "outputId": "3d8aed0f-8738-4188-d33e-7444813ee139"
      },
      "execution_count": null,
      "outputs": [
        {
          "output_type": "execute_result",
          "data": {
            "text/plain": [
              "[StructField('food', StringType(), True),\n",
              " StructField('price', IntegerType(), True)]"
            ]
          },
          "metadata": {},
          "execution_count": 6
        }
      ]
    },
    {
      "cell_type": "markdown",
      "source": [
        "the code will pass the schema just created as fields in a `StructType`. All this will be stored in a variable called `final`"
      ],
      "metadata": {
        "id": "9tJ5m3KYiLGU"
      }
    },
    {
      "cell_type": "code",
      "source": [
        "#Pass in our fields\n",
        "final = StructType(fields=schema)\n",
        "final"
      ],
      "metadata": {
        "colab": {
          "base_uri": "https://localhost:8080/"
        },
        "id": "pjKPOZTyh8sg",
        "outputId": "d9f58b44-ff5d-436a-cfec-fe1bdac9e227"
      },
      "execution_count": null,
      "outputs": [
        {
          "output_type": "execute_result",
          "data": {
            "text/plain": [
              "StructType([StructField('food', StringType(), True), StructField('price', IntegerType(), True)])"
            ]
          },
          "metadata": {},
          "execution_count": 7
        }
      ]
    },
    {
      "cell_type": "markdown",
      "source": [
        "Now that we have a predefined schema, we can read in the data again, only this time passing in our own schema"
      ],
      "metadata": {
        "id": "H8s_dTKfiXeI"
      }
    },
    {
      "cell_type": "code",
      "source": [
        "#Read data with new schema\n",
        "dataframe = spark.read.csv(SparkFiles.get(\"food.csv\"), schema=final, sep=\",\", header=True)\n",
        "dataframe.printSchema()"
      ],
      "metadata": {
        "colab": {
          "base_uri": "https://localhost:8080/"
        },
        "id": "XNSEE0yFiD5g",
        "outputId": "c1f42e84-32ed-486b-fe53-d34744493f95"
      },
      "execution_count": null,
      "outputs": [
        {
          "output_type": "stream",
          "name": "stdout",
          "text": [
            "root\n",
            " |-- food: string (nullable = true)\n",
            " |-- price: integer (nullable = true)\n",
            "\n"
          ]
        }
      ]
    },
    {
      "cell_type": "code",
      "source": [
        "dataframe.select(\"price\").show()\n"
      ],
      "metadata": {
        "colab": {
          "base_uri": "https://localhost:8080/"
        },
        "id": "2BZrpf96ikaX",
        "outputId": "0220a6d0-63c1-4466-db99-6792f49c3223"
      },
      "execution_count": null,
      "outputs": [
        {
          "output_type": "stream",
          "name": "stdout",
          "text": [
            "+-----+\n",
            "|price|\n",
            "+-----+\n",
            "|    0|\n",
            "|   12|\n",
            "|   10|\n",
            "+-----+\n",
            "\n"
          ]
        }
      ]
    },
    {
      "cell_type": "code",
      "source": [
        "#add new column\n",
        "dataframe.withColumn('newprice', dataframe['price']).show()\n",
        "\n",
        "#update column name\n",
        "dataframe.withColumnRenamed('price', 'newerprice').show()\n",
        "\n",
        "#double price\n",
        "dataframe.withColumn('doubleprice', dataframe['price'] * 2).show()\n",
        "\n",
        "#add dollor to the price\n",
        "dataframe.withColumn('pricePlusOne', dataframe[\"price\"] + 1).show()\n",
        "\n",
        "#half the price\n",
        "dataframe.withColumn('halfprice', dataframe[\"price\"] / 2).show()"
      ],
      "metadata": {
        "colab": {
          "base_uri": "https://localhost:8080/"
        },
        "id": "xqqaNUgmitoW",
        "outputId": "b4a35fb7-617f-46f4-fb84-e568d335edac"
      },
      "execution_count": null,
      "outputs": [
        {
          "output_type": "stream",
          "name": "stdout",
          "text": [
            "+-------+-----+--------+\n",
            "|   food|price|newprice|\n",
            "+-------+-----+--------+\n",
            "|  pizza|    0|       0|\n",
            "|  sushi|   12|      12|\n",
            "|chinese|   10|      10|\n",
            "+-------+-----+--------+\n",
            "\n",
            "+-------+----------+\n",
            "|   food|newerprice|\n",
            "+-------+----------+\n",
            "|  pizza|         0|\n",
            "|  sushi|        12|\n",
            "|chinese|        10|\n",
            "+-------+----------+\n",
            "\n",
            "+-------+-----+-----------+\n",
            "|   food|price|doubleprice|\n",
            "+-------+-----+-----------+\n",
            "|  pizza|    0|          0|\n",
            "|  sushi|   12|         24|\n",
            "|chinese|   10|         20|\n",
            "+-------+-----+-----------+\n",
            "\n",
            "+-------+-----+------------+\n",
            "|   food|price|pricePlusOne|\n",
            "+-------+-----+------------+\n",
            "|  pizza|    0|           1|\n",
            "|  sushi|   12|          13|\n",
            "|chinese|   10|          11|\n",
            "+-------+-----+------------+\n",
            "\n",
            "+-------+-----+---------+\n",
            "|   food|price|halfprice|\n",
            "+-------+-----+---------+\n",
            "|  pizza|    0|      0.0|\n",
            "|  sushi|   12|      6.0|\n",
            "|chinese|   10|      5.0|\n",
            "+-------+-----+---------+\n",
            "\n"
          ]
        }
      ]
    },
    {
      "cell_type": "markdown",
      "source": [
        "now we'll start a new spark session"
      ],
      "metadata": {
        "id": "lc2hNL8wrd8H"
      }
    },
    {
      "cell_type": "code",
      "source": [
        "spark = SparkSession.builder.appName(\"DataFrameFunctions\").getOrCreate()\n",
        "\n",
        "#Read data from S3 buckets\n",
        "url =\"https://2u-data-curriculum-team.s3.amazonaws.com/dataviz-online/module_16/wine.csv\"\n",
        "spark.sparkContext.addFile(url)\n",
        "df = spark.read.csv(SparkFiles.get(\"wine.csv\"), sep=\",\", header=True)\n",
        "\n",
        "#show DF\n",
        "df.show()"
      ],
      "metadata": {
        "colab": {
          "base_uri": "https://localhost:8080/"
        },
        "id": "bVaijrZDjqVW",
        "outputId": "3f6fe145-e690-471d-8eae-14b020f76491"
      },
      "execution_count": null,
      "outputs": [
        {
          "output_type": "stream",
          "name": "stdout",
          "text": [
            "+-------+--------------------+--------------------+------+-----+------------------+--------------------+-----------------+------------------+--------------------+\n",
            "|country|         description|         designation|points|price|          province|            region_1|         region_2|           variety|              winery|\n",
            "+-------+--------------------+--------------------+------+-----+------------------+--------------------+-----------------+------------------+--------------------+\n",
            "|     US|This tremendous 1...|   Martha's Vineyard|    96|  235|        California|         Napa Valley|             Napa|Cabernet Sauvignon|               Heitz|\n",
            "|  Spain|Ripe aromas of fi...|Carodorum Selecci...|    96|  110|    Northern Spain|                Toro|             null|     Tinta de Toro|Bodega Carmen Rod...|\n",
            "|     US|Mac Watson honors...|Special Selected ...|    96|   90|        California|      Knights Valley|           Sonoma|   Sauvignon Blanc|            Macauley|\n",
            "|     US|This spent 20 mon...|             Reserve|    96|   65|            Oregon|   Willamette Valley|Willamette Valley|        Pinot Noir|               Ponzi|\n",
            "| France|This is the top w...|         La Br��lade|    95|   66|          Provence|              Bandol|             null|Provence red blend|Domaine de la B̩gude|\n",
            "|  Spain|Deep, dense and p...|           Numanthia|    95|   73|    Northern Spain|                Toro|             null|     Tinta de Toro|           Numanthia|\n",
            "|  Spain|Slightly gritty b...|          San Rom��n|    95|   65|    Northern Spain|                Toro|             null|     Tinta de Toro|            Maurodos|\n",
            "|  Spain|Lush cedary black...|Carodorum �_nico ...|    95|  110|    Northern Spain|                Toro|             null|     Tinta de Toro|Bodega Carmen Rod...|\n",
            "|     US|This re-named vin...|              Silice|    95|   65|            Oregon|  Chehalem Mountains|Willamette Valley|        Pinot Noir|           Bergstr̦m|\n",
            "|     US|The producer sour...|Gap's Crown Vineyard|    95|   60|        California|        Sonoma Coast|           Sonoma|        Pinot Noir|           Blue Farm|\n",
            "|  Italy|Elegance, complex...|  Ronco della Chiesa|    95|   80|Northeastern Italy|              Collio|             null|          Friulano|    Borgo del Tiglio|\n",
            "|     US|From 18-year-old ...|Estate Vineyard W...|    95|   48|            Oregon|        Ribbon Ridge|Willamette Valley|        Pinot Noir|Patricia Green Ce...|\n",
            "|     US|A standout even i...|      Weber Vineyard|    95|   48|            Oregon|        Dundee Hills|Willamette Valley|        Pinot Noir|Patricia Green Ce...|\n",
            "| France|This wine is in p...|Ch̢teau Montus Pr...|    95|   90|  Southwest France|             Madiran|             null|            Tannat|   Vignobles Brumont|\n",
            "|     US|With its sophisti...|      Grace Vineyard|    95|  185|            Oregon|        Dundee Hills|Willamette Valley|        Pinot Noir|      Domaine Serene|\n",
            "|     US|First made in 200...|              Sigrid|    95|   90|            Oregon|   Willamette Valley|Willamette Valley|        Chardonnay|           Bergstr̦m|\n",
            "|     US|This blockbuster,...|     Rainin Vineyard|    95|  325|        California|Diamond Mountain ...|             Napa|Cabernet Sauvignon|                Hall|\n",
            "|  Spain|Nicely oaked blac...|6 A̱os Reserva Pr...|    95|   80|    Northern Spain|    Ribera del Duero|             null|       Tempranillo|            Valduero|\n",
            "| France|Coming from a sev...|       Le Pigeonnier|    95|  290|  Southwest France|              Cahors|             null|            Malbec|  Ch̢teau Lagr̩zette|\n",
            "|     US|This fresh and li...|Gap's Crown Vineyard|    95|   75|        California|        Sonoma Coast|           Sonoma|        Pinot Noir|        Gary Farrell|\n",
            "+-------+--------------------+--------------------+------+-----+------------------+--------------------+-----------------+------------------+--------------------+\n",
            "only showing top 20 rows\n",
            "\n"
          ]
        }
      ]
    },
    {
      "cell_type": "code",
      "source": [
        "#to select a column/row element its using the select method\n",
        "#example: df.select(\"country\").collect()[0]"
      ],
      "metadata": {
        "id": "DV0fevftsIGR"
      },
      "execution_count": null,
      "outputs": []
    },
    {
      "cell_type": "code",
      "source": [
        "#order df by ascending values\n",
        "df.orderBy(df[\"points\"].desc()).show(5)"
      ],
      "metadata": {
        "colab": {
          "base_uri": "https://localhost:8080/"
        },
        "id": "9jBhPp3UsPpT",
        "outputId": "387d21ab-15ee-45ac-a6a8-70031648c3c5"
      },
      "execution_count": null,
      "outputs": [
        {
          "output_type": "stream",
          "name": "stdout",
          "text": [
            "+-------+--------------------+--------------------+------+-----+----------+-----------+--------+--------------------+--------------------+\n",
            "|country|         description|         designation|points|price|  province|   region_1|region_2|             variety|              winery|\n",
            "+-------+--------------------+--------------------+------+-----+----------+-----------+--------+--------------------+--------------------+\n",
            "|     US|This is an absolu...|           IX Estate|    99|  290|California|Napa Valley|    Napa|           Red Blend|              Colgin|\n",
            "| France|98-100 Barrel sam...|       Barrel sample|    99| null|  Bordeaux|   Pauillac|    null|Bordeaux-style Re...|Ch̢teau Pontet-Canet|\n",
            "|     US|There are incredi...|Elevation 1147 Es...|    99|  150|California|Napa Valley|    Napa|  Cabernet Sauvignon|        David Arthur|\n",
            "| France|A magnificent Cha...|Dom P̩rignon Oeno...|    99|  385| Champagne|  Champagne|    null|     Champagne Blend|     Mo��t & Chandon|\n",
            "|  Italy|Even better than ...|             Masseto|    99|  250|   Tuscany|    Toscana|    null|              Merlot|Tenuta dell'Ornel...|\n",
            "+-------+--------------------+--------------------+------+-----+----------+-----------+--------+--------------------+--------------------+\n",
            "only showing top 5 rows\n",
            "\n"
          ]
        }
      ]
    },
    {
      "cell_type": "code",
      "source": [
        "from pyspark.sql.functions import avg\n",
        "df.select(avg(\"points\")).show()\n"
      ],
      "metadata": {
        "colab": {
          "base_uri": "https://localhost:8080/"
        },
        "id": "ZNcDT51uyOhk",
        "outputId": "38607681-53c3-4894-d43a-406564986bf5"
      },
      "execution_count": null,
      "outputs": [
        {
          "output_type": "stream",
          "name": "stdout",
          "text": [
            "+-----------------+\n",
            "|      avg(points)|\n",
            "+-----------------+\n",
            "|87.88834105383143|\n",
            "+-----------------+\n",
            "\n"
          ]
        }
      ]
    },
    {
      "cell_type": "code",
      "source": [
        "#Filter\n",
        "df.filter(\"price<20\").show(5)\n",
        "\n",
        "#filter by price on select columns\n",
        "df.filter(\"price<20\").select(['points', 'country', 'winery', 'price']).show(5)\n",
        "\n",
        "#filter on exact state and price\n",
        "df.filter(\"country = 'US' and price < 20\").show()\n",
        "\n",
        "#filter for price > 15 from california\n",
        "df.filter(\"country = 'US' and province = 'California' and price > 15\").show()"
      ],
      "metadata": {
        "colab": {
          "base_uri": "https://localhost:8080/"
        },
        "id": "KlSFZEehz94I",
        "outputId": "0101918c-e837-413e-f551-f4c538b648ae"
      },
      "execution_count": null,
      "outputs": [
        {
          "output_type": "stream",
          "name": "stdout",
          "text": [
            "+--------+--------------------+-----------+------+-----+----------+--------------------+-----------------+--------------+--------------------+\n",
            "| country|         description|designation|points|price|  province|            region_1|         region_2|       variety|              winery|\n",
            "+--------+--------------------+-----------+------+-----+----------+--------------------+-----------------+--------------+--------------------+\n",
            "|Bulgaria|This Bulgarian Ma...|    Bergul̩|    90|   15|  Bulgaria|                null|             null|        Mavrud|        Villa Melnik|\n",
            "|   Spain|Earthy plum and c...|     Amandi|    90|   17|   Galicia|       Ribeira Sacra|             null|       Menc�_a|      Don Bernardino|\n",
            "|      US|There's a lot to ...|       null|    90|   18|California|Russian River Valley|           Sonoma|    Chardonnay|            De Loach|\n",
            "|      US|Massively fruity,...|       null|    91|   19|    Oregon|   Willamette Valley|Willamette Valley|    Pinot Gris|   Trinity Vineyards|\n",
            "|Portugal|It is the ripe da...|    Premium|    91|   15|  Alentejo|                null|             null|Portuguese Red|Adega Cooperativa...|\n",
            "+--------+--------------------+-----------+------+-----+----------+--------------------+-----------------+--------------+--------------------+\n",
            "only showing top 5 rows\n",
            "\n",
            "+------+--------+--------------------+-----+\n",
            "|points| country|              winery|price|\n",
            "+------+--------+--------------------+-----+\n",
            "|    90|Bulgaria|        Villa Melnik|   15|\n",
            "|    90|   Spain|      Don Bernardino|   17|\n",
            "|    90|      US|            De Loach|   18|\n",
            "|    91|      US|   Trinity Vineyards|   19|\n",
            "|    91|Portugal|Adega Cooperativa...|   15|\n",
            "+------+--------+--------------------+-----+\n",
            "only showing top 5 rows\n",
            "\n",
            "+-------+--------------------+--------------------+------+-----+----------+--------------------+--------------------+------------------+--------------------+\n",
            "|country|         description|         designation|points|price|  province|            region_1|            region_2|           variety|              winery|\n",
            "+-------+--------------------+--------------------+------+-----+----------+--------------------+--------------------+------------------+--------------------+\n",
            "|     US|There's a lot to ...|                null|    90|   18|California|Russian River Valley|              Sonoma|        Chardonnay|            De Loach|\n",
            "|     US|Massively fruity,...|                null|    91|   19|    Oregon|   Willamette Valley|   Willamette Valley|        Pinot Gris|   Trinity Vineyards|\n",
            "|     US|Bright, light oak...|                null|    86|   10|California|          California|    California Other|Cabernet Sauvignon|      Belle Ambiance|\n",
            "|     US|A smoky scent and...|     Small Lot Blend|    86|   13|California|    Mendocino County|Mendocino/Lake Co...|        Chardonnay|            Parducci|\n",
            "|     US|This is an easygo...|                null|    86|   18|California|          California|    California Other|        Chardonnay|     The Naked Grape|\n",
            "|     US|Aromas of ripe (l...|Tudor Hills Vineyard|    86|   17|Washington|       Yakima Valley|     Columbia Valley|      Pinot Grigio| Martinez & Martinez|\n",
            "|     US|Strong wood smoke...|                null|    86|   12|California|                Lodi|      Central Valley|    Cabernet Franc|           Ironstone|\n",
            "|     US|This medium-bodie...|                null|    86|   10|California|          California|    California Other|        Chardonnay|       Leaping Horse|\n",
            "|     US|This wine is dry ...|                null|    86|   13|California|          California|    California Other|       White Blend|        Kitchen Sink|\n",
            "|     US|This is a delight...|                null|    90|   16|California|       Sonoma County|              Sonoma|        Chardonnay|            Benziger|\n",
            "|     US|This medium-bodie...|                null|    89|   16|California|      Dunnigan Hills|      Central Valley|             Syrah|           Matchbook|\n",
            "|     US|A creamy, buttery...|                null|    87|   10|California|          California|    California Other|        Chardonnay|       Grand Pacific|\n",
            "|     US|This saign̩e-styl...|             Ros̩ of|    87|   18|Washington|Columbia Valley (WA)|     Columbia Valley|            Malbec|            Hamilton|\n",
            "|     US|Zesty and mineral...|Ingle Vineyard Un...|    87|   18|  New York|        Finger Lakes|        Finger Lakes|        Chardonnay|          Heron Hill|\n",
            "|     US|Smoke and violet ...|            Semi-Dry|    87|   14|  New York|        Finger Lakes|        Finger Lakes|          Riesling|          Heron Hill|\n",
            "|     US|Intense notes of ...|            Semi-Dry|    87|   14|  New York|        Finger Lakes|        Finger Lakes|          Riesling|             Fox Run|\n",
            "|     US|This is an aromat...|                null|    87|   10|Washington|Columbia Valley (WA)|     Columbia Valley|   Gew�_rztraminer|Chateau Ste. Mich...|\n",
            "|     US|The aromas of thi...|                null|    87|   11|Washington|Columbia Valley (WA)|     Columbia Valley|            Merlot|         Castle Rock|\n",
            "|     US|This is a frizzan...|               Early|    88|   15|    Oregon|   Willamette Valley|   Willamette Valley|            Muscat|        Silvan Ridge|\n",
            "|     US|This is a great s...|                null|    88|   16|California|     Monterey County|       Central Coast|      Pinot Grigio|            Bargetto|\n",
            "+-------+--------------------+--------------------+------+-----+----------+--------------------+--------------------+------------------+--------------------+\n",
            "only showing top 20 rows\n",
            "\n",
            "+-------+--------------------+--------------------+------+-----+----------+--------------------+-------------+------------------+--------------------+\n",
            "|country|         description|         designation|points|price|  province|            region_1|     region_2|           variety|              winery|\n",
            "+-------+--------------------+--------------------+------+-----+----------+--------------------+-------------+------------------+--------------------+\n",
            "|     US|This tremendous 1...|   Martha's Vineyard|    96|  235|California|         Napa Valley|         Napa|Cabernet Sauvignon|               Heitz|\n",
            "|     US|Mac Watson honors...|Special Selected ...|    96|   90|California|      Knights Valley|       Sonoma|   Sauvignon Blanc|            Macauley|\n",
            "|     US|The producer sour...|Gap's Crown Vineyard|    95|   60|California|        Sonoma Coast|       Sonoma|        Pinot Noir|           Blue Farm|\n",
            "|     US|This blockbuster,...|     Rainin Vineyard|    95|  325|California|Diamond Mountain ...|         Napa|Cabernet Sauvignon|                Hall|\n",
            "|     US|This fresh and li...|Gap's Crown Vineyard|    95|   75|California|        Sonoma Coast|       Sonoma|        Pinot Noir|        Gary Farrell|\n",
            "|     US|Heitz has made th...|          Grignolino|    95|   24|California|         Napa Valley|         Napa|              Ros̩|               Heitz|\n",
            "|     US|The apogee of thi...|       Giallo Solare|    95|   60|California|         Edna Valley|Central Coast|        Chardonnay|    Center of Effort|\n",
            "|     US|San Jose-based pr...|       R-Bar-R Ranch|    95|   45|California|Santa Cruz Mountains|Central Coast|        Pinot Noir|            Comartin|\n",
            "|     US|Cranberry, baked ...|     Garys' Vineyard|    94|   60|California|Santa Lucia Highl...|Central Coast|        Pinot Noir|                Roar|\n",
            "|     US|Steely and perfum...|            Babushka|    90|   37|California|Russian River Valley|       Sonoma|        Chardonnay|            Zepaltas|\n",
            "|     US|Blended with 9% M...|        Estate Grown|    90|   60|California|        Mount Veeder|         Napa|Cabernet Sauvignon|            Brandlin|\n",
            "|     US|There's a lot to ...|                null|    90|   18|California|Russian River Valley|       Sonoma|        Chardonnay|            De Loach|\n",
            "|     US|Fresh boysenberri...|       Estate Select|    91|   36|California|  Santa Clara Valley|Central Coast|             Syrah|      Jason-Stephens|\n",
            "|     US|From the producer...|               Animo|    91|   85|California|         Napa Valley|         Napa|Cabernet Sauvignon|Michael Mondavi F...|\n",
            "|     US|A juiciness of ch...|       Barrel Select|    91|   60|California|          Rutherford|         Napa|Cabernet Sauvignon|Provenance Vineyards|\n",
            "|     US|Sweetened tannins...| District Collection|    91|   85|California|          St. Helena|         Napa|Cabernet Sauvignon|             Raymond|\n",
            "|     US|This wine draws f...|                null|    91|   45|California|        Sonoma Coast|       Sonoma|        Pinot Noir|             Red Car|\n",
            "|     US|Given four months...|    Juliana Vineyard|    91|   38|California|         Napa Valley|         Napa|   Sauvignon Blanc|           B Cellars|\n",
            "|     US|This wine over-de...|                null|    91|   28|California|         Napa Valley|         Napa|Cabernet Sauvignon|              B Side|\n",
            "|     US|From a multiplici...|                null|    91|   22|California|         Napa Valley|         Napa|Cabernet Sauvignon|          Eagle Glen|\n",
            "+-------+--------------------+--------------------+------+-----+----------+--------------------+-------------+------------------+--------------------+\n",
            "only showing top 20 rows\n",
            "\n"
          ]
        }
      ]
    },
    {
      "cell_type": "code",
      "source": [
        ""
      ],
      "metadata": {
        "id": "K1WXZyclPX6Q"
      },
      "execution_count": null,
      "outputs": []
    }
  ]
}